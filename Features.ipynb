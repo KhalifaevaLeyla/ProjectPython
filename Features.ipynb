{
  "nbformat": 4,
  "nbformat_minor": 0,
  "metadata": {
    "colab": {
      "provenance": []
    },
    "kernelspec": {
      "name": "python3",
      "display_name": "Python 3"
    },
    "language_info": {
      "name": "python"
    }
  },
  "cells": [
    {
      "cell_type": "code",
      "execution_count": null,
      "metadata": {
        "id": "vC23diGpU0ik"
      },
      "outputs": [],
      "source": [
        "import numpy as np\n",
        "from scipy import stats\n",
        "import pandas as pd\n",
        "from sklearn.model_selection import train_test_split as sample\n",
        "from sklearn.manifold import MDS\n",
        "# делаем импорт всех необходимых библиотек\n",
        "import seaborn as sns\n",
        "import matplotlib.pyplot as plt\n",
        "sns.set_theme(style=\"darkgrid\", palette=\"muted\")\n",
        "# Отключение некоторых лишних предупреждений\n",
        "import warnings\n",
        "warnings.filterwarnings(\"ignore\")"
      ]
    },
    {
      "cell_type": "markdown",
      "metadata": {
        "id": "9b81c9cf"
      },
      "source": [
        "## Часть 2: Cоздание новых признаков"
      ]
    },
    {
      "cell_type": "markdown",
      "metadata": {
        "id": "1fe916e9"
      },
      "source": [
        "_Над этой частью работала Халифаева Лейла_"
      ]
    },
    {
      "cell_type": "markdown",
      "metadata": {
        "id": "fc67ef21"
      },
      "source": [
        "1) В дататасетах есть информация об Индексе массы тела, поэтому мы решили создать в каждом из них новую переменную, которая будет отражать, является ли вес респондента избыточным(1) или нет(0), то есть превышает ли норму в 25 единиц или нет."
      ]
    },
    {
      "cell_type": "code",
      "execution_count": null,
      "metadata": {
        "id": "73801ce7"
      },
      "outputs": [],
      "source": [
        "data_heart['BMI_excess'] = data_heart['BMI']\n",
        "data_heart['BMI_excess'] = np.where((data_heart['BMI'] < 25), 0, data_heart['BMI_excess'])\n",
        "data_heart['BMI_excess'] = np.where((data_heart['BMI'] >= 25), 1, data_heart['BMI_excess'])"
      ]
    },
    {
      "cell_type": "code",
      "execution_count": null,
      "metadata": {
        "id": "4226510d"
      },
      "outputs": [],
      "source": [
        "data_stroke['BMI_excess'] = data_stroke['bmi']\n",
        "data_stroke['BMI_excess'] = np.where((data_stroke['bmi'] < 25), 0, data_stroke['BMI_excess'])\n",
        "data_stroke['BMI_excess'] = np.where((data_stroke['bmi'] >= 25), 1, data_stroke['BMI_excess'])"
      ]
    },
    {
      "cell_type": "markdown",
      "metadata": {
        "id": "b9a6f356"
      },
      "source": [
        "2) Также в данных об инсультах есть переменная, отражающая средний уровень глюкозы в крови респондента. Создадим пременную, которая покажет, является ли показатель респондента нормальным(1) или нет(0). Нормой является уровень в пределах от 80 до 115 мг/дл."
      ]
    },
    {
      "cell_type": "code",
      "execution_count": null,
      "metadata": {
        "id": "c238c387"
      },
      "outputs": [],
      "source": [
        "data_stroke['glucose_level_normal'] = data_stroke['avg_glucose_level']\n",
        "data_stroke['glucose_level_normal'] = np.where(((data_stroke['avg_glucose_level'] >= 80) & \n",
        "                                                (data_stroke['avg_glucose_level'] <= 115)), 1,\n",
        "                                                 data_stroke['glucose_level_normal'])\n",
        "data_stroke['glucose_level_normal'] = np.where(((data_stroke['avg_glucose_level'] < 80) | \n",
        "                                                (data_stroke['avg_glucose_level'] > 115)), 0,\n",
        "                                                 data_stroke['glucose_level_normal'])"
      ]
    },
    {
      "cell_type": "markdown",
      "metadata": {
        "id": "4d37ede1"
      },
      "source": [
        "3) В первом датасете есть много признаков, которые говорят в целом о состоянии здоровья и образе жизни респондентов, поэтому можно создать еще один признак. \n",
        "\n",
        "_Предположим, что человек, который ведет здоровый образ жизни, соответствует следующим критериям:_\n",
        "- Не курит;\n",
        "- Употребляет достаточное количество фруктов и овощей в пищу;\n",
        "- Регулярно является физически активным в течение месяца;\n",
        "- Не употребляют алкоголь;"
      ]
    },
    {
      "cell_type": "code",
      "execution_count": null,
      "metadata": {
        "id": "40965f00"
      },
      "outputs": [],
      "source": [
        "data_heart['healthy_lifestyle'] = np.zeros(data_heart.shape[0])\n",
        "data_heart['healthy_lifestyle'] = np.where(((data_heart['Smoker'] == 0) &\n",
        "                                            (data_heart['Fruits'] == 1) &\n",
        "                                            (data_heart['Veggies'] == 1) &\n",
        "                                            (data_heart['PhysActivity'] == 1) &\n",
        "                                            (data_heart['HvyAlcoholConsump'] == 0)),\n",
        "                                            1, data_heart['healthy_lifestyle'])"
      ]
    }
  ]
}